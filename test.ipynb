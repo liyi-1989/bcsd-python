{
 "cells": [
  {
   "cell_type": "code",
   "execution_count": 1,
   "metadata": {
    "collapsed": true
   },
   "outputs": [],
   "source": [
    "import os\n",
    "import time\n",
    "import argparse\n",
    "\n",
    "import xarray as xr\n",
    "import numpy as np\n",
    "\n",
    "from bias_correct import BiasCorrectDaily, convert_to_float32"
   ]
  },
  {
   "cell_type": "code",
   "execution_count": 2,
   "metadata": {
    "collapsed": false
   },
   "outputs": [],
   "source": [
    "# parser = argparse.ArgumentParser()\n",
    "# parser.add_argument(\"fobserved\", help=\"Netcdf file containing an upscaled \" \\\n",
    "#                     \"version of the observed dataset\", type=str)\n",
    "# parser.add_argument(\"fmodeled\", help=\"Netcdf file of a GCM or Reanalysis dataset\",\n",
    "#                     type=str)\n",
    "# parser.add_argument(\"var1\", help=\"Variable name of the observed dataset\")\n",
    "# parser.add_argument(\"var2\", help=\"Variable name of the modeled dataset\")\n",
    "# parser.add_argument(\"ofile\", help=\"File to save bias corrected dataset\")\n",
    "# parser.add_argument(\"--njobs\", help=\"File to save bias corrected dataset\",\n",
    "#                    default=1, type=int)\n",
    "# args = parser.parse_args()\n",
    "# args = vars(args)"
   ]
  },
  {
   "cell_type": "code",
   "execution_count": 3,
   "metadata": {
    "collapsed": true
   },
   "outputs": [],
   "source": [
    "f_observed = 'data/prism_upscaled.nc'\n",
    "f_modeled = 'data/merra_filled.nc'\n",
    "obs_var = 'ppt'\n",
    "modeled_var = 'PRECTOTLAND'"
   ]
  },
  {
   "cell_type": "code",
   "execution_count": 4,
   "metadata": {
    "collapsed": false
   },
   "outputs": [],
   "source": [
    "obs_data = xr.open_dataset(f_observed)"
   ]
  },
  {
   "cell_type": "code",
   "execution_count": 5,
   "metadata": {
    "collapsed": false
   },
   "outputs": [
    {
     "name": "stdout",
     "output_type": "stream",
     "text": [
      "loading observations\n"
     ]
    }
   ],
   "source": [
    "print \"loading observations\"\n",
    "obs_data.load()\n",
    "obs_data = obs_data.dropna('time', how='all')\n",
    "obs_data = obs_data.resample(\"D\", \"time\")\n",
    "obs_data = convert_to_float32(obs_data)"
   ]
  },
  {
   "cell_type": "code",
   "execution_count": 6,
   "metadata": {
    "collapsed": false
   },
   "outputs": [
    {
     "name": "stdout",
     "output_type": "stream",
     "text": [
      "loading modeled\n"
     ]
    },
    {
     "data": {
      "text/plain": [
       "<xarray.Dataset>\n",
       "Dimensions:      (bnds: 2, lat: 11, lon: 9, time: 13149)\n",
       "Coordinates:\n",
       "  * lon          (lon) float64 -95.0 -94.38 -93.75 -93.12 -92.5 -91.88 ...\n",
       "  * lat          (lat) float64 35.0 35.5 36.0 36.5 37.0 37.5 38.0 38.5 39.0 ...\n",
       "  * bnds         (bnds) int64 0 1\n",
       "  * time         (time) datetime64[ns] 1980-01-01 1980-01-02 1980-01-03 ...\n",
       "Data variables:\n",
       "    PRECTOTLAND  (time, lat, lon) float32 8.05101e-09 2.07281e-09 ..."
      ]
     },
     "execution_count": 6,
     "metadata": {},
     "output_type": "execute_result"
    }
   ],
   "source": [
    "print \"loading modeled\"\n",
    "modeled_data = xr.open_dataset(f_modeled)\n",
    "del modeled_data['time_bnds']\n",
    "modeled_data.load()\n",
    "modeled_data = modeled_data.resample(\"D\", \"time\")\n",
    "convert_to_float32(modeled_data)"
   ]
  },
  {
   "cell_type": "code",
   "execution_count": 7,
   "metadata": {
    "collapsed": false
   },
   "outputs": [
    {
     "name": "stdout",
     "output_type": "stream",
     "text": [
      "starting bcsd\n",
      "Day = 100\n",
      "Running jobs 11\n",
      "Day = 200\n",
      "Running jobs 11\n",
      "Day = 300\n",
      "Running jobs 11\n",
      "running time: 119.750124931\n"
     ]
    }
   ],
   "source": [
    "print \"starting bcsd\"\n",
    "t0 = time.time()\n",
    "bc = BiasCorrectDaily(max_train_year=2001, pool=2)\n",
    "corrected = bc.bias_correction(obs_data, modeled_data, obs_var,\n",
    "                               modeled_var, njobs=2)\n",
    "print \"running time:\", (time.time() - t0)\n",
    "corrected.to_netcdf('merra_bc.nc')"
   ]
  },
  {
   "cell_type": "code",
   "execution_count": 8,
   "metadata": {
    "collapsed": false
   },
   "outputs": [
    {
     "data": {
      "text/plain": [
       "<xarray.Dataset>\n",
       "Dimensions:         (bnds: 2, lat: 11, lon: 9, time: 12418)\n",
       "Coordinates:\n",
       "  * lon             (lon) float64 -95.0 -94.38 -93.75 -93.12 -92.5 -91.88 ...\n",
       "  * lat             (lat) float64 35.0 35.5 36.0 36.5 37.0 37.5 38.0 38.5 ...\n",
       "  * bnds            (bnds) int64 0 1\n",
       "  * time            (time) datetime64[ns] 1981-01-01 1981-01-02 1981-01-03 ...\n",
       "Data variables:\n",
       "    bias_corrected  (time, lat, lon) float64 nan nan nan nan nan nan nan nan ..."
      ]
     },
     "execution_count": 8,
     "metadata": {},
     "output_type": "execute_result"
    }
   ],
   "source": [
    "corrected"
   ]
  },
  {
   "cell_type": "code",
   "execution_count": 9,
   "metadata": {
    "collapsed": false
   },
   "outputs": [
    {
     "data": {
      "text/plain": [
       "<xarray.Dataset>\n",
       "Dimensions:  (lat: 11, lon: 9, time: 12418)\n",
       "Coordinates:\n",
       "  * lon      (lon) float64 -95.0 -94.38 -93.75 -93.12 -92.5 -91.88 -91.25 ...\n",
       "  * lat      (lat) float64 35.0 35.5 36.0 36.5 37.0 37.5 38.0 38.5 39.0 39.5 ...\n",
       "  * time     (time) datetime64[ns] 1981-01-01 1981-01-02 1981-01-03 ...\n",
       "Data variables:\n",
       "    ppt      (time, lat, lon) float32 nan nan nan nan nan nan nan nan nan ..."
      ]
     },
     "execution_count": 9,
     "metadata": {},
     "output_type": "execute_result"
    }
   ],
   "source": [
    "obs_data"
   ]
  },
  {
   "cell_type": "code",
   "execution_count": 12,
   "metadata": {
    "collapsed": true
   },
   "outputs": [],
   "source": [
    "err_data=corrected.bias_corrected-obs_data.ppt"
   ]
  },
  {
   "cell_type": "code",
   "execution_count": 38,
   "metadata": {
    "collapsed": false
   },
   "outputs": [
    {
     "data": {
      "text/plain": [
       "<xarray.DataArray ()>\n",
       "array(37.1043926620451)"
      ]
     },
     "execution_count": 38,
     "metadata": {},
     "output_type": "execute_result"
    }
   ],
   "source": [
    "# Conclusion: np.mean act on xarray.DataArray with nan: remove nan, take average of the rest unmissing ones\n",
    "#np.square(xr.DataArray(np.array([[np.nan,2],[3,4]])))\n",
    "#np.mean([4,9,16])\n",
    "np.mean(np.square(err_data))"
   ]
  },
  {
   "cell_type": "code",
   "execution_count": 68,
   "metadata": {
    "collapsed": false
   },
   "outputs": [],
   "source": [
    "import os"
   ]
  },
  {
   "cell_type": "code",
   "execution_count": 70,
   "metadata": {
    "collapsed": false
   },
   "outputs": [
    {
     "data": {
      "text/plain": [
       "0"
      ]
     },
     "execution_count": 70,
     "metadata": {},
     "output_type": "execute_result"
    }
   ],
   "source": [
    "os.system(\"pwd\")"
   ]
  },
  {
   "cell_type": "code",
   "execution_count": null,
   "metadata": {
    "collapsed": true
   },
   "outputs": [],
   "source": []
  }
 ],
 "metadata": {
  "kernelspec": {
   "display_name": "Python 2",
   "language": "python",
   "name": "python2"
  },
  "language_info": {
   "codemirror_mode": {
    "name": "ipython",
    "version": 2
   },
   "file_extension": ".py",
   "mimetype": "text/x-python",
   "name": "python",
   "nbconvert_exporter": "python",
   "pygments_lexer": "ipython2",
   "version": "2.7.11"
  }
 },
 "nbformat": 4,
 "nbformat_minor": 0
}
